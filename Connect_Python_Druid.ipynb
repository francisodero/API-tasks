{
  "nbformat": 4,
  "nbformat_minor": 0,
  "metadata": {
    "colab": {
      "provenance": [],
      "authorship_tag": "ABX9TyPBB50DzJvu2xauBcfCrF/r",
      "include_colab_link": true
    },
    "kernelspec": {
      "name": "python3",
      "display_name": "Python 3"
    },
    "language_info": {
      "name": "python"
    }
  },
  "cells": [
    {
      "cell_type": "markdown",
      "metadata": {
        "id": "view-in-github",
        "colab_type": "text"
      },
      "source": [
        "<a href=\"https://colab.research.google.com/github/oderofrancis/API-tasks/blob/main/Connect_Python_Druid.ipynb\" target=\"_parent\"><img src=\"https://colab.research.google.com/assets/colab-badge.svg\" alt=\"Open In Colab\"/></a>"
      ]
    },
    {
      "cell_type": "code",
      "execution_count": null,
      "metadata": {
        "id": "Nxipjb1LaQ2d"
      },
      "outputs": [],
      "source": [
        "# !pip install pydruid"
      ]
    },
    {
      "cell_type": "code",
      "source": [
        "from pydruid import *\n",
        "from pydruid.client import *\n",
        "import pandas as pd"
      ],
      "metadata": {
        "id": "erxjxtBMacL_"
      },
      "execution_count": 6,
      "outputs": []
    },
    {
      "cell_type": "code",
      "source": [
        "druid_client = PyDruid('http://your-druid-instance:port', 'druid/v2/sql')"
      ],
      "metadata": {
        "id": "8QuRmq3_a1uK"
      },
      "execution_count": 4,
      "outputs": []
    },
    {
      "cell_type": "code",
      "source": [
        "session_id = input(\"session id\")"
      ],
      "metadata": {
        "id": "SuA_uSMEiXZ9"
      },
      "execution_count": 10,
      "outputs": []
    },
    {
      "cell_type": "code",
      "source": [
        "query = QueryBuilder(datasource='your_datasource') \\\n",
        "    .select({\"*\"}) \\\n",
        "    .groupby(\"column_name\")\n",
        "\n",
        "results = druid_client.query(query)"
      ],
      "metadata": {
        "id": "MVQGVymdlF7r"
      },
      "execution_count": null,
      "outputs": []
    },
    {
      "cell_type": "code",
      "source": [
        "results = druid_client.execute(\"SELECT * FROM user_events_simple_data WHERE __time >= CURRENT_TIMESTAMP - INTERVAL '1' DAY AND session_id = session_id\")"
      ],
      "metadata": {
        "id": "0uE-o8dhcJBK"
      },
      "execution_count": 12,
      "outputs": []
    },
    {
      "cell_type": "code",
      "source": [
        "\n",
        "df = pd.DataFrame(results)"
      ],
      "metadata": {
        "id": "R7mVv5VhcLOG"
      },
      "execution_count": null,
      "outputs": []
    }
  ]
}